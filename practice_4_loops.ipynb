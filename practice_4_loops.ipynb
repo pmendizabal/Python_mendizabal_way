{
  "nbformat": 4,
  "nbformat_minor": 0,
  "metadata": {
    "colab": {
      "name": "practice_4_loops.ipynb",
      "provenance": [],
      "authorship_tag": "ABX9TyPOyxLy5J+T13uots2rxL5l",
      "include_colab_link": true
    },
    "kernelspec": {
      "name": "python3",
      "display_name": "Python 3"
    }
  },
  "cells": [
    {
      "cell_type": "markdown",
      "metadata": {
        "id": "view-in-github",
        "colab_type": "text"
      },
      "source": [
        "<a href=\"https://colab.research.google.com/github/pmendizabal/Python_mendizabal_way/blob/main/practice_4_loops.ipynb\" target=\"_parent\"><img src=\"https://colab.research.google.com/assets/colab-badge.svg\" alt=\"Open In Colab\"/></a>"
      ]
    },
    {
      "cell_type": "markdown",
      "metadata": {
        "id": "SgQT4Wo3Sx1l"
      },
      "source": [
        "#Introducción a bucles y condicionales\n"
      ]
    },
    {
      "cell_type": "markdown",
      "metadata": {
        "id": "ifxokLcsVtHC"
      },
      "source": [
        "##Condicional if, else\n",
        "\n",
        "###Igualdad: a == b\n",
        "###No igual: a != b\n",
        "###Menor que: a < b\n",
        "###Menor que o igual que: a <= b\n",
        "###Mayor que: a > b\n",
        "###Mayor que o igual que: a >= b\n"
      ]
    },
    {
      "cell_type": "code",
      "metadata": {
        "id": "iFz3hW1uVsyK",
        "outputId": "242ca593-92fc-43f9-a5c6-30e158c4ff35",
        "colab": {
          "base_uri": "https://localhost:8080/"
        }
      },
      "source": [
        "a = 10\n",
        "b = 11\n",
        "if a == b:\n",
        "  print(\"a is not equal to b\")\n",
        "elif a>b:\n",
        "  print(\"a is greater than b\")\n",
        "elif a<b:\n",
        "  print(\"a is less than b\")"
      ],
      "execution_count": 14,
      "outputs": [
        {
          "output_type": "stream",
          "text": [
            "a is less than b\n"
          ],
          "name": "stdout"
        }
      ]
    },
    {
      "cell_type": "code",
      "metadata": {
        "id": "XkrwSV_2Wear",
        "outputId": "c1e821d9-56f0-4c6f-d622-59272c152397",
        "colab": {
          "base_uri": "https://localhost:8080/"
        }
      },
      "source": [
        "a = 10\n",
        "b = 11\n",
        "if a == b:\n",
        "  print(\"a is not equal to b\")\n",
        "elif a>b:\n",
        "  print(\"a is greater than b\")\n",
        "else:\n",
        "  print(\"a is less than b\")"
      ],
      "execution_count": 15,
      "outputs": [
        {
          "output_type": "stream",
          "text": [
            "a is less than b\n"
          ],
          "name": "stdout"
        }
      ]
    },
    {
      "cell_type": "code",
      "metadata": {
        "id": "q21D98edWmlf",
        "outputId": "e2518455-40b6-4b70-e750-83cc36bc0ba3",
        "colab": {
          "base_uri": "https://localhost:8080/"
        }
      },
      "source": [
        "o = \"omar\"\n",
        "s = \"sara\"\n",
        "if o is s:\n",
        "  print(\"Si son iguales\")\n",
        "else:\n",
        "  print(\"No son iguales\")"
      ],
      "execution_count": 18,
      "outputs": [
        {
          "output_type": "stream",
          "text": [
            "No son iguales\n"
          ],
          "name": "stdout"
        }
      ]
    },
    {
      "cell_type": "code",
      "metadata": {
        "id": "5CeLpBt1XdX1",
        "outputId": "74022d26-3be2-44fa-88cc-dbe9811efaa3",
        "colab": {
          "base_uri": "https://localhost:8080/"
        }
      },
      "source": [
        "o = \"omar\"\n",
        "s = \"sara\"\n",
        "if o == s:\n",
        "  print(\"Si son iguales\")\n",
        "else:\n",
        "  print(\"No son iguales\")"
      ],
      "execution_count": 19,
      "outputs": [
        {
          "output_type": "stream",
          "text": [
            "No son iguales\n"
          ],
          "name": "stdout"
        }
      ]
    },
    {
      "cell_type": "code",
      "metadata": {
        "id": "bLpJfKtQXgwL",
        "outputId": "f28ad7ed-7678-4813-a1af-b28307d8b1fc",
        "colab": {
          "base_uri": "https://localhost:8080/"
        }
      },
      "source": [
        "o = \"omar\"\n",
        "s = \"omar\"\n",
        "if o == s:\n",
        "  print(\"Si son iguales\")\n",
        "else:\n",
        "  print(\"No son iguales\")"
      ],
      "execution_count": 20,
      "outputs": [
        {
          "output_type": "stream",
          "text": [
            "Si son iguales\n"
          ],
          "name": "stdout"
        }
      ]
    },
    {
      "cell_type": "code",
      "metadata": {
        "id": "VpKYWldOXock",
        "outputId": "48197820-615c-4737-dcf2-04dffa4468be",
        "colab": {
          "base_uri": "https://localhost:8080/"
        }
      },
      "source": [
        "o = \"omar\"\n",
        "s = \"omar\"\n",
        "if o is s:\n",
        "  print(\"Si son iguales\")\n",
        "else:\n",
        "  print(\"No son iguales\")"
      ],
      "execution_count": 21,
      "outputs": [
        {
          "output_type": "stream",
          "text": [
            "Si son iguales\n"
          ],
          "name": "stdout"
        }
      ]
    },
    {
      "cell_type": "code",
      "metadata": {
        "id": "P8RrAdkeX7YF",
        "outputId": "ab52ad25-3b0f-4bc8-acfd-beebed72a7d5",
        "colab": {
          "base_uri": "https://localhost:8080/"
        }
      },
      "source": [
        "print(o == s)"
      ],
      "execution_count": 22,
      "outputs": [
        {
          "output_type": "stream",
          "text": [
            "True\n"
          ],
          "name": "stdout"
        }
      ]
    },
    {
      "cell_type": "code",
      "metadata": {
        "id": "4akZ9GQUX-nx",
        "outputId": "86987761-b86a-4d25-aa52-a8bbb21f3885",
        "colab": {
          "base_uri": "https://localhost:8080/"
        }
      },
      "source": [
        "print( o is s)"
      ],
      "execution_count": 23,
      "outputs": [
        {
          "output_type": "stream",
          "text": [
            "True\n"
          ],
          "name": "stdout"
        }
      ]
    },
    {
      "cell_type": "code",
      "metadata": {
        "id": "-X6ypxjTYBxf",
        "outputId": "f7ee2045-a069-44de-cd51-31339cd26a43",
        "colab": {
          "base_uri": "https://localhost:8080/"
        }
      },
      "source": [
        "id(o)"
      ],
      "execution_count": 25,
      "outputs": [
        {
          "output_type": "execute_result",
          "data": {
            "text/plain": [
              "140680651431136"
            ]
          },
          "metadata": {
            "tags": []
          },
          "execution_count": 25
        }
      ]
    },
    {
      "cell_type": "code",
      "metadata": {
        "id": "EBvjAM-_YEGV",
        "outputId": "3bf8b686-d585-4026-a8d3-640e5692aa6a",
        "colab": {
          "base_uri": "https://localhost:8080/"
        }
      },
      "source": [
        "id(s)"
      ],
      "execution_count": 26,
      "outputs": [
        {
          "output_type": "execute_result",
          "data": {
            "text/plain": [
              "140680651431136"
            ]
          },
          "metadata": {
            "tags": []
          },
          "execution_count": 26
        }
      ]
    },
    {
      "cell_type": "markdown",
      "metadata": {
        "id": "A-hcSRfBTfGO"
      },
      "source": [
        "##Ciclo For\n",
        "###Se usa para iterar en una estructura de datos para ejecutar una acción predeterminada"
      ]
    },
    {
      "cell_type": "code",
      "metadata": {
        "id": "aQ6eTDCDOPip",
        "outputId": "1741c0d4-59f4-465b-a4fd-17512e74a38f",
        "colab": {
          "base_uri": "https://localhost:8080/"
        }
      },
      "source": [
        "z = [12,11,10,9,8]\n",
        "for i in z:\n",
        "  print(i)"
      ],
      "execution_count": 1,
      "outputs": [
        {
          "output_type": "stream",
          "text": [
            "12\n",
            "11\n",
            "10\n",
            "9\n",
            "8\n"
          ],
          "name": "stdout"
        }
      ]
    },
    {
      "cell_type": "code",
      "metadata": {
        "id": "JBbPiYKhT0Ur",
        "outputId": "6d0a59eb-942b-4910-d50b-7df66eb4b84f",
        "colab": {
          "base_uri": "https://localhost:8080/"
        }
      },
      "source": [
        "for i in z:\n",
        "  if i > 10:\n",
        "    print(i)"
      ],
      "execution_count": 2,
      "outputs": [
        {
          "output_type": "stream",
          "text": [
            "12\n",
            "11\n"
          ],
          "name": "stdout"
        }
      ]
    },
    {
      "cell_type": "code",
      "metadata": {
        "id": "wsRKCOmeVXYf",
        "outputId": "17923557-93bc-4c90-a158-dc3c4b671151",
        "colab": {
          "base_uri": "https://localhost:8080/"
        }
      },
      "source": [
        "for i in z:\n",
        "  print(i)\n",
        "  if i == 10:\n",
        "    break"
      ],
      "execution_count": 13,
      "outputs": [
        {
          "output_type": "stream",
          "text": [
            "12\n",
            "11\n",
            "10\n"
          ],
          "name": "stdout"
        }
      ]
    },
    {
      "cell_type": "markdown",
      "metadata": {
        "id": "xbW6ACSAUP7K"
      },
      "source": [
        "##Ciclo While\n",
        "###Se itera mientras una condición sea verdadera"
      ]
    },
    {
      "cell_type": "code",
      "metadata": {
        "id": "7-cURBVpT-s8",
        "outputId": "ed616f51-d6f5-48c7-a8f7-396e8deea792",
        "colab": {
          "base_uri": "https://localhost:8080/"
        }
      },
      "source": [
        "n = 1\n",
        "while n < 6:\n",
        "  print(n)\n",
        "  n +=1"
      ],
      "execution_count": 4,
      "outputs": [
        {
          "output_type": "stream",
          "text": [
            "1\n",
            "2\n",
            "3\n",
            "4\n",
            "5\n"
          ],
          "name": "stdout"
        }
      ]
    },
    {
      "cell_type": "code",
      "metadata": {
        "id": "WTVWRCVXUqbK",
        "outputId": "e059ac05-5a93-4ea3-ce19-bda89bbe220f",
        "colab": {
          "base_uri": "https://localhost:8080/"
        }
      },
      "source": [
        "n = 1\n",
        "while n < 6:\n",
        "  print(n)\n",
        "  if n == 3:\n",
        "    break\n",
        "  n += 1"
      ],
      "execution_count": 5,
      "outputs": [
        {
          "output_type": "stream",
          "text": [
            "1\n",
            "2\n",
            "3\n"
          ],
          "name": "stdout"
        }
      ]
    },
    {
      "cell_type": "code",
      "metadata": {
        "id": "kJx2BgjsU3kn",
        "outputId": "03b9e116-c822-44b3-983f-03e2855e256c",
        "colab": {
          "base_uri": "https://localhost:8080/"
        }
      },
      "source": [
        "n = 0\n",
        "while n < 6:\n",
        "  n += 1\n",
        "  if n == 3:\n",
        "    continue\n",
        "  print(n)"
      ],
      "execution_count": 8,
      "outputs": [
        {
          "output_type": "stream",
          "text": [
            "1\n",
            "2\n",
            "4\n",
            "5\n",
            "6\n"
          ],
          "name": "stdout"
        }
      ]
    },
    {
      "cell_type": "code",
      "metadata": {
        "id": "ZJ0jLgXBU69O",
        "outputId": "189a1357-91e7-46a3-e3ff-9ff04651130b",
        "colab": {
          "base_uri": "https://localhost:8080/"
        }
      },
      "source": [
        "n = 1\n",
        "while n < 6:\n",
        "  print(n)\n",
        "  n += 1\n",
        "else:\n",
        "  print(\"n is no longer less than 6\")"
      ],
      "execution_count": 9,
      "outputs": [
        {
          "output_type": "stream",
          "text": [
            "1\n",
            "2\n",
            "3\n",
            "4\n",
            "5\n",
            "n is no longer less than 6\n"
          ],
          "name": "stdout"
        }
      ]
    },
    {
      "cell_type": "code",
      "metadata": {
        "id": "WpJDn30iVA7y"
      },
      "source": [
        ""
      ],
      "execution_count": null,
      "outputs": []
    }
  ]
}