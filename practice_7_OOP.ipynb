{
  "nbformat": 4,
  "nbformat_minor": 0,
  "metadata": {
    "colab": {
      "name": "practice_7_OOP.ipynb",
      "provenance": [],
      "authorship_tag": "ABX9TyPKW0R2tvX4Ud/6S9BUksfN",
      "include_colab_link": true
    },
    "kernelspec": {
      "name": "python3",
      "display_name": "Python 3"
    }
  },
  "cells": [
    {
      "cell_type": "markdown",
      "metadata": {
        "id": "view-in-github",
        "colab_type": "text"
      },
      "source": [
        "<a href=\"https://colab.research.google.com/github/pmendizabal/a_first_course_in_python/blob/main/practice_7_OOP.ipynb\" target=\"_parent\"><img src=\"https://colab.research.google.com/assets/colab-badge.svg\" alt=\"Open In Colab\"/></a>"
      ]
    },
    {
      "cell_type": "markdown",
      "metadata": {
        "id": "7iG8irif4H__"
      },
      "source": [
        "##Programación orientada a objetos\n",
        "\n",
        "Existen diversos tipos de programación que se refieren al marco metodológico que se abordará para la comunicación entre el programador y el ordenador. Del que vamos a hablar hoy es el concerniente al orientado a objetos.\n",
        "\n",
        "Elementos básicos:\n",
        "\n",
        "1.   Asumir a los objetos como agrupaciones de datos\n",
        "2.   Los métodos que operan en dichos datos\n",
        "\n",
        "Por ejemplo, podemos representar a una persona con propiedades como nombre,\n",
        "edad, género, etc. y los comportamientos de dicha persona como correr, cantar,\n",
        "comer, etc.\n",
        "\n",
        "\n",
        "\n",
        "\n"
      ]
    },
    {
      "cell_type": "code",
      "metadata": {
        "colab": {
          "base_uri": "https://localhost:8080/"
        },
        "id": "hgUMzS0M3L01",
        "outputId": "cb10ac33-da61-4ec1-dbdb-7eedaff94eb5"
      },
      "source": [
        "num_cuarto = 101\n",
        "estatus = \"Desocupado\"\n",
        "print(f\"El cuarto {num_cuarto} está {estatus}\")"
      ],
      "execution_count": 1,
      "outputs": [
        {
          "output_type": "stream",
          "text": [
            "El cuarto 101 está Desocupado\n"
          ],
          "name": "stdout"
        }
      ]
    },
    {
      "cell_type": "markdown",
      "metadata": {
        "id": "zGeDyRlv4186"
      },
      "source": [
        "##Clases\n",
        "Pero ahora deseamos construir estructuras más complejas, siguiendo el mismo ejemplo, queremos modelar más propiedades. Las clases nos permiten crear nuevos tipos que contiene información arbitraria\n",
        "sobre un objeto. En el caso del hotel, podríamos crear dos clases Hotel() y\n",
        "Cuarto() que nos permitiera dar seguimiento a las propiedades como número de\n",
        "cuartos, ocupación, aseo, tipo de habitación, etc.\n",
        "\n",
        "Es importante resaltar que las clases sólo proveen estructura. Son un molde con\n",
        "el cual podemos construir objetos específicos. La clase señala las propiedades\n",
        "que los hoteles que modelemos tendrán, pero no es ningún hotel específico. Para\n",
        "eso necesitamos las instancias.\n",
        "\n",
        "##Instancias\n",
        "Mientras que las clases proveen la estructura, las instancias son los objetos\n",
        "reales que creamos en nuestro programa: un hotel llamado American o Hilton.\n",
        "Pero cabe señalar que cada instancia es distinta de las demás (aunque todas pertenecen a una misma clase)."
      ]
    },
    {
      "cell_type": "code",
      "metadata": {
        "id": "YBgxwozQ4Zxo"
      },
      "source": [
        "class Hotel:\n",
        "  pass\n",
        "\n",
        "hotel = Hotel()\n",
        "hotel_2 = Hotel()\n",
        "\n",
        "print(hotel_2)"
      ],
      "execution_count": null,
      "outputs": []
    },
    {
      "cell_type": "markdown",
      "metadata": {
        "id": "G1Su4Iu07z-Q"
      },
      "source": [
        "##Atributos de la instancia\n",
        "Todas las clases crean objetos y todos los objetos tienen atributos. Utilizamos\n",
        "el método especial __init__ para definir el estado inicial de nuestra instancia.\n",
        "Recibe como primer parámetro obligatorio self (que es simplemente una\n",
        "referencia a la instancia)."
      ]
    },
    {
      "cell_type": "code",
      "metadata": {
        "id": "zKiWRcGi73nZ"
      },
      "source": [
        "class Hotel:\n",
        "    \n",
        "    def __init__(self, numero_maximo_de_huespedes, lugares_de_estacionamiento):\n",
        "        self.numero_maximo_de_huespedes = numero_maximo_de_huespedes\n",
        "        self.lugares_de_estacionamiento = lugares_de_estacionamiento\n",
        "        self.huespedes = 0\n",
        "\n",
        "\n",
        "hotel = Hotel(numero_maximo_de_huespedes=50, lugares_de_estacionamiento=20)\n",
        "print(hotel.lugares_de_estacionamiento)"
      ],
      "execution_count": null,
      "outputs": []
    },
    {
      "cell_type": "markdown",
      "metadata": {
        "id": "lf3JLc3C7_aN"
      },
      "source": [
        "##Métodos de la instancia \n",
        "\n",
        "Mientras que los atributos de la instancia describen lo que representa el\n",
        "objeto, los métodos de instancia nos indican qué podemos hacer con las\n",
        "instancias de dicha clase y normalmente operan en los mencionados atributos.\n",
        "Los métodos son equivalentes a funciones dentro de la definición de la clase,\n",
        "pero todos reciben self como primer argumento."
      ]
    },
    {
      "cell_type": "code",
      "metadata": {
        "id": "voW5xbpc8CA5"
      },
      "source": [
        "class Hotel:\n",
        "    \n",
        "    def __init__(self, numero_maximo_de_huespedes, lugares_de_estacionamiento):\n",
        "        self.numero_maximo_de_huespedes = numero_maximo_de_huespedes\n",
        "        self.lugares_de_estacionamiento = lugares_de_estacionamiento\n",
        "        self.huespedes = 0\n",
        "\n",
        "    def anadir_huespedes(self, cantidad_de_huespedes):\n",
        "        self.huespedes += cantidad_de_huespedes\n",
        "\n",
        "    def checkout(self, cantidad_de_huespedes):\n",
        "        self.huespedes -= cantidad_de_huespedes\n",
        "\n",
        "    def ocupacion_total(self):\n",
        "        return self.huespedes\n"
      ],
      "execution_count": null,
      "outputs": []
    },
    {
      "cell_type": "code",
      "metadata": {
        "id": "eCiLce3t8G8d"
      },
      "source": [
        "hotel = Hotel(50, 20)"
      ],
      "execution_count": null,
      "outputs": []
    },
    {
      "cell_type": "code",
      "metadata": {
        "id": "29ARJl9l8wN1"
      },
      "source": [
        "hotel.anadir_huespedes(3)"
      ],
      "execution_count": null,
      "outputs": []
    },
    {
      "cell_type": "code",
      "metadata": {
        "id": "urcsMNzs8yWc"
      },
      "source": [
        "hotel.ocupacion_total()"
      ],
      "execution_count": null,
      "outputs": []
    },
    {
      "cell_type": "code",
      "metadata": {
        "id": "h15JQTsz8zyr"
      },
      "source": [
        ""
      ],
      "execution_count": null,
      "outputs": []
    }
  ]
}