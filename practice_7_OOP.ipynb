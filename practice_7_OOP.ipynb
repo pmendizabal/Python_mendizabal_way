{
  "nbformat": 4,
  "nbformat_minor": 0,
  "metadata": {
    "colab": {
      "name": "practice_7_OOP.ipynb",
      "provenance": [],
      "collapsed_sections": [],
      "include_colab_link": true
    },
    "kernelspec": {
      "name": "python3",
      "display_name": "Python 3"
    }
  },
  "cells": [
    {
      "cell_type": "markdown",
      "metadata": {
        "id": "view-in-github",
        "colab_type": "text"
      },
      "source": [
        "<a href=\"https://colab.research.google.com/github/pmendizabal/a_first_course_in_python/blob/main/practice_7_OOP.ipynb\" target=\"_parent\"><img src=\"https://colab.research.google.com/assets/colab-badge.svg\" alt=\"Open In Colab\"/></a>"
      ]
    },
    {
      "cell_type": "markdown",
      "metadata": {
        "id": "7iG8irif4H__"
      },
      "source": [
        "##Programación orientada a objetos\n",
        "\n",
        "Existen diversos tipos de programación que se refieren al marco metodológico que se abordará para la comunicación entre el programador y el ordenador. Del que vamos a hablar hoy es el concerniente al orientado a objetos.\n",
        "\n",
        "Elementos básicos:\n",
        "\n",
        "1.   Asumir a los objetos como agrupaciones de datos\n",
        "2.   Los métodos que operan en dichos datos\n",
        "\n",
        "Por ejemplo, podemos representar a una persona con propiedades como nombre,\n",
        "edad, género, etc. y los comportamientos de dicha persona como correr, cantar,\n",
        "comer, etc.\n",
        "\n",
        "\n",
        "\n",
        "\n"
      ]
    },
    {
      "cell_type": "code",
      "metadata": {
        "colab": {
          "base_uri": "https://localhost:8080/"
        },
        "id": "hgUMzS0M3L01",
        "outputId": "cb10ac33-da61-4ec1-dbdb-7eedaff94eb5"
      },
      "source": [
        "num_cuarto = 101\n",
        "estatus = \"Desocupado\"\n",
        "print(f\"El cuarto {num_cuarto} está {estatus}\")"
      ],
      "execution_count": null,
      "outputs": [
        {
          "output_type": "stream",
          "text": [
            "El cuarto 101 está Desocupado\n"
          ],
          "name": "stdout"
        }
      ]
    },
    {
      "cell_type": "markdown",
      "metadata": {
        "id": "zGeDyRlv4186"
      },
      "source": [
        "##Clases\n",
        "Pero ahora deseamos construir estructuras más complejas, siguiendo el mismo ejemplo, queremos modelar más propiedades. Las clases nos permiten crear nuevos tipos que contiene información arbitraria\n",
        "sobre un objeto. En el caso del hotel, podríamos crear dos clases Hotel() y\n",
        "Cuarto() que nos permitiera dar seguimiento a las propiedades como número de\n",
        "cuartos, ocupación, aseo, tipo de habitación, etc.\n",
        "\n",
        "Es importante resaltar que las clases sólo proveen estructura. Son un molde con\n",
        "el cual podemos construir objetos específicos. La clase señala las propiedades\n",
        "que los hoteles que modelemos tendrán, pero no es ningún hotel específico. Para\n",
        "eso necesitamos las instancias.\n",
        "\n",
        "##Instancias\n",
        "Mientras que las clases proveen la estructura, las instancias son los objetos\n",
        "reales que creamos en nuestro programa: un hotel llamado American o Hilton.\n",
        "Pero cabe señalar que cada instancia es distinta de las demás (aunque todas pertenecen a una misma clase)."
      ]
    },
    {
      "cell_type": "code",
      "metadata": {
        "id": "YBgxwozQ4Zxo"
      },
      "source": [
        "class Hotel:\n",
        "  pass\n",
        "\n",
        "hotel = Hotel()\n",
        "hotel_2 = Hotel()\n",
        "\n",
        "print(hotel_2)"
      ],
      "execution_count": null,
      "outputs": []
    },
    {
      "cell_type": "markdown",
      "metadata": {
        "id": "G1Su4Iu07z-Q"
      },
      "source": [
        "##Atributos de la instancia\n",
        "Todas las clases crean objetos y todos los objetos tienen atributos. Utilizamos\n",
        "el método especial __init__ para definir el estado inicial de nuestra instancia.\n",
        "Recibe como primer parámetro obligatorio self (que es simplemente una\n",
        "referencia a la instancia)."
      ]
    },
    {
      "cell_type": "code",
      "metadata": {
        "id": "zKiWRcGi73nZ"
      },
      "source": [
        "class Hotel:\n",
        "    \n",
        "    def __init__(self, numero_maximo_de_huespedes, lugares_de_estacionamiento):\n",
        "        self.numero_maximo_de_huespedes = numero_maximo_de_huespedes\n",
        "        self.lugares_de_estacionamiento = lugares_de_estacionamiento\n",
        "        self.huespedes = 0\n",
        "\n",
        "\n",
        "hotel = Hotel(numero_maximo_de_huespedes=50, lugares_de_estacionamiento=20)\n",
        "print(hotel.lugares_de_estacionamiento)"
      ],
      "execution_count": null,
      "outputs": []
    },
    {
      "cell_type": "markdown",
      "metadata": {
        "id": "lf3JLc3C7_aN"
      },
      "source": [
        "##Métodos de la instancia \n",
        "\n",
        "Mientras que los atributos de la instancia describen lo que representa el\n",
        "objeto, los métodos de instancia nos indican qué podemos hacer con las\n",
        "instancias de dicha clase y normalmente operan en los mencionados atributos.\n",
        "Los métodos son equivalentes a funciones dentro de la definición de la clase,\n",
        "pero todos reciben self como primer argumento."
      ]
    },
    {
      "cell_type": "code",
      "metadata": {
        "id": "voW5xbpc8CA5"
      },
      "source": [
        "class Hotel:\n",
        "    \n",
        "    def __init__(self, numero_maximo_de_huespedes, lugares_de_estacionamiento):\n",
        "        self.numero_maximo_de_huespedes = numero_maximo_de_huespedes\n",
        "        self.lugares_de_estacionamiento = lugares_de_estacionamiento\n",
        "        self.huespedes = 0\n",
        "\n",
        "    def anadir_huespedes(self, cantidad_de_huespedes):\n",
        "        self.huespedes += cantidad_de_huespedes\n",
        "\n",
        "    def checkout(self, cantidad_de_huespedes):\n",
        "        self.huespedes -= cantidad_de_huespedes\n",
        "\n",
        "    def ocupacion_total(self):\n",
        "        return self.huespedes\n"
      ],
      "execution_count": null,
      "outputs": []
    },
    {
      "cell_type": "code",
      "metadata": {
        "id": "eCiLce3t8G8d"
      },
      "source": [
        "hotel = Hotel(50, 20)"
      ],
      "execution_count": null,
      "outputs": []
    },
    {
      "cell_type": "code",
      "metadata": {
        "id": "29ARJl9l8wN1"
      },
      "source": [
        "hotel.anadir_huespedes(3)"
      ],
      "execution_count": null,
      "outputs": []
    },
    {
      "cell_type": "code",
      "metadata": {
        "id": "urcsMNzs8yWc"
      },
      "source": [
        "hotel.ocupacion_total()"
      ],
      "execution_count": null,
      "outputs": []
    },
    {
      "cell_type": "markdown",
      "metadata": {
        "id": "tpdTwgI3BekC"
      },
      "source": [
        "###Ejemplo un poco más interesante: Personas"
      ]
    },
    {
      "cell_type": "code",
      "metadata": {
        "id": "h15JQTsz8zyr"
      },
      "source": [
        "import sys\n",
        "sys.path.insert(0,'/content/drive/My Drive/Colab Notebooks/m_functions')\n",
        "\n",
        "from mendizabal_functions import *\n",
        "import random\n",
        "import datetime\n",
        "import numpy as np\n",
        "from datetime import date\n",
        "\n",
        "class Person():\n",
        "    \n",
        "    population = 0\n",
        "    \n",
        "    def __init__(self):\n",
        "        Person.population += 1\n",
        "        self.gender = random.choice(['male', 'female'])\n",
        "        self.first_name = random.choice(men_names() if self.gender == 'male' else wowen_name()) \n",
        "        self.last_name = random.choice(last_names())\n",
        "        self.skills = np.random.choice(skills(), 5, replace=False).tolist()\n",
        "        self.birthdate = gen_birthdate()\n",
        "        self.age = calculate_age(self.birthdate)\n",
        "        \n",
        "    def __repr__(self):\n",
        "        return self.first_name + ' ' + self.last_name\n"
      ],
      "execution_count": 8,
      "outputs": []
    },
    {
      "cell_type": "code",
      "metadata": {
        "colab": {
          "base_uri": "https://localhost:8080/"
        },
        "id": "wwocl1j6II1w",
        "outputId": "2dfd9bf0-b65e-4c5f-da7e-3fdf4f60d50c"
      },
      "source": [
        "persona_1 = Person()\n",
        "persona_1"
      ],
      "execution_count": 12,
      "outputs": [
        {
          "output_type": "execute_result",
          "data": {
            "text/plain": [
              "Denisse Pacheco"
            ]
          },
          "metadata": {
            "tags": []
          },
          "execution_count": 12
        }
      ]
    },
    {
      "cell_type": "code",
      "metadata": {
        "colab": {
          "base_uri": "https://localhost:8080/"
        },
        "id": "dhpBRlGnRhOW",
        "outputId": "5e7b7a92-2bc9-478f-92a1-75e39647bc35"
      },
      "source": [
        "persona_1.__dict__"
      ],
      "execution_count": 13,
      "outputs": [
        {
          "output_type": "execute_result",
          "data": {
            "text/plain": [
              "{'age': 24,\n",
              " 'birthdate': '1996-01-08',\n",
              " 'first_name': 'Denisse',\n",
              " 'gender': 'female',\n",
              " 'last_name': 'Pacheco',\n",
              " 'skills': ['Slow', 'Economist', 'Agile', 'Genius', 'Programming']}"
            ]
          },
          "metadata": {
            "tags": []
          },
          "execution_count": 13
        }
      ]
    },
    {
      "cell_type": "code",
      "metadata": {
        "colab": {
          "base_uri": "https://localhost:8080/"
        },
        "id": "vD-VyYXtTHLJ",
        "outputId": "61892b7f-a2e1-441c-e6b3-36efdbed430e"
      },
      "source": [
        "persona_2 = Person()\n",
        "persona_2"
      ],
      "execution_count": 14,
      "outputs": [
        {
          "output_type": "execute_result",
          "data": {
            "text/plain": [
              "Diana Morales"
            ]
          },
          "metadata": {
            "tags": []
          },
          "execution_count": 14
        }
      ]
    },
    {
      "cell_type": "code",
      "metadata": {
        "colab": {
          "base_uri": "https://localhost:8080/"
        },
        "id": "nlqAW3L4S1_A",
        "outputId": "a7b53474-30b4-4599-a255-f54c2dac8dc1"
      },
      "source": [
        "Person.population"
      ],
      "execution_count": 15,
      "outputs": [
        {
          "output_type": "execute_result",
          "data": {
            "text/plain": [
              "3"
            ]
          },
          "metadata": {
            "tags": []
          },
          "execution_count": 15
        }
      ]
    },
    {
      "cell_type": "code",
      "metadata": {
        "colab": {
          "base_uri": "https://localhost:8080/",
          "height": 36
        },
        "id": "kXaE7kXYTCxP",
        "outputId": "5e8ac1e7-0a88-4a96-e959-210e7d6294d2"
      },
      "source": [
        "persona_2.birthdate"
      ],
      "execution_count": 16,
      "outputs": [
        {
          "output_type": "execute_result",
          "data": {
            "application/vnd.google.colaboratory.intrinsic+json": {
              "type": "string"
            },
            "text/plain": [
              "'1997-12-01'"
            ]
          },
          "metadata": {
            "tags": []
          },
          "execution_count": 16
        }
      ]
    },
    {
      "cell_type": "code",
      "metadata": {
        "colab": {
          "base_uri": "https://localhost:8080/"
        },
        "id": "cT0GmmgbTTHI",
        "outputId": "2311666e-aa9f-44ee-e105-55b323713f4a"
      },
      "source": [
        "persona_2.age"
      ],
      "execution_count": 17,
      "outputs": [
        {
          "output_type": "execute_result",
          "data": {
            "text/plain": [
              "22"
            ]
          },
          "metadata": {
            "tags": []
          },
          "execution_count": 17
        }
      ]
    },
    {
      "cell_type": "code",
      "metadata": {
        "id": "1oa9MB7BTVq9"
      },
      "source": [
        "class Community():\n",
        "    \n",
        "    number_communities = 0\n",
        "\n",
        "    def __init__(self, population, name):\n",
        "        \n",
        "        Community.number_communities += 1\n",
        "        self.name = name\n",
        "        self.population_size = population\n",
        "        self.population_data = []\n",
        "        self.sum_age = 0\n",
        "        self.num_female = 0\n",
        "        self.num_male = 0\n",
        "        for i in range(population):\n",
        "            person = Person()\n",
        "            self.population_data.append(person)\n",
        "            self.sum_age += person.age\n",
        "            if person.gender=='male':\n",
        "                self.num_male += 1\n",
        "            else:\n",
        "                self.num_female += 1\n",
        "            \n",
        "        self.avg_age = (self.sum_age / self.population_size)\n",
        "        \n",
        "    def __repr__(self):\n",
        "        return self.name"
      ],
      "execution_count": 18,
      "outputs": []
    },
    {
      "cell_type": "code",
      "metadata": {
        "id": "bEUXn56TTh4w"
      },
      "source": [
        "macondo = Community(100,'Macondo')"
      ],
      "execution_count": 19,
      "outputs": []
    },
    {
      "cell_type": "code",
      "metadata": {
        "id": "AYMGXfSNT2nv"
      },
      "source": [
        ""
      ],
      "execution_count": null,
      "outputs": []
    }
  ]
}