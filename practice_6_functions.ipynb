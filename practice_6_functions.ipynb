{
  "nbformat": 4,
  "nbformat_minor": 0,
  "metadata": {
    "colab": {
      "name": "practice_6_functions.ipynb",
      "provenance": [],
      "authorship_tag": "ABX9TyNNaW09oXW08m/S0NwuwSpj",
      "include_colab_link": true
    },
    "kernelspec": {
      "name": "python3",
      "display_name": "Python 3"
    }
  },
  "cells": [
    {
      "cell_type": "markdown",
      "metadata": {
        "id": "view-in-github",
        "colab_type": "text"
      },
      "source": [
        "<a href=\"https://colab.research.google.com/github/pmendizabal/a_first_course_in_python/blob/main/practice_6_functions.ipynb\" target=\"_parent\"><img src=\"https://colab.research.google.com/assets/colab-badge.svg\" alt=\"Open In Colab\"/></a>"
      ]
    },
    {
      "cell_type": "markdown",
      "metadata": {
        "id": "b98JQQoEy2-y"
      },
      "source": [
        "#Funciones\n",
        "\n",
        "###Practicamente son códigos hechos para cumplir una determinada tarea y no se tenga que volver a repetir código."
      ]
    },
    {
      "cell_type": "markdown",
      "metadata": {
        "id": "qGwuRVd2zUal"
      },
      "source": [
        "Utilizamos la keyword def para definir una función, en este ejemplo le ponemos nombre \"mult\" para indicar que la funcion ejecutara la acción de multiplicar dos números, esto lo sabemos porque abrimos parentesis y ahí asignamos los argumentos que ocupa la función a construir.\n",
        "\n",
        "La keyword return indica lo que va a devolver la función, si no lo ponemos pues simplemente no va a regresar nada."
      ]
    },
    {
      "cell_type": "code",
      "metadata": {
        "colab": {
          "base_uri": "https://localhost:8080/"
        },
        "id": "PnnhOmZdyz4d",
        "outputId": "2c12fad2-8037-418c-e2f1-612f57c479d7"
      },
      "source": [
        "def mult(x,y):\n",
        "  z = x*y\n",
        "  return z\n",
        "\n",
        "mult(2,2)"
      ],
      "execution_count": 1,
      "outputs": [
        {
          "output_type": "execute_result",
          "data": {
            "text/plain": [
              "4"
            ]
          },
          "metadata": {
            "tags": []
          },
          "execution_count": 1
        }
      ]
    },
    {
      "cell_type": "code",
      "metadata": {
        "colab": {
          "base_uri": "https://localhost:8080/"
        },
        "id": "JYtfCB4bzR26",
        "outputId": "1f3d1e8f-2ca7-41b8-f85d-9122fa897f3f"
      },
      "source": [
        "def suma(x,y):\n",
        "  z = x+y\n",
        "  return z\n",
        "\n",
        "suma(3,3)"
      ],
      "execution_count": 2,
      "outputs": [
        {
          "output_type": "execute_result",
          "data": {
            "text/plain": [
              "6"
            ]
          },
          "metadata": {
            "tags": []
          },
          "execution_count": 2
        }
      ]
    },
    {
      "cell_type": "code",
      "metadata": {
        "colab": {
          "base_uri": "https://localhost:8080/"
        },
        "id": "9JZUjkly0OEX",
        "outputId": "56955274-3db2-4a9b-bb67-952aff0eeb51"
      },
      "source": [
        "def pseudo_calcu(x,y):\n",
        "  print(\"Bienvenido, escoge una opción: 1. Suma, 2. Multiplicación\")\n",
        "  opcion = input()\n",
        "  if int(opcion)==1:\n",
        "    print(x+y)\n",
        "  else:\n",
        "    print(x*y)\n",
        "  print(\"Gracias por usar la función\")\n",
        "\n",
        "pseudo_calcu(2,3)"
      ],
      "execution_count": 5,
      "outputs": [
        {
          "output_type": "stream",
          "text": [
            "Bienvenido, escoge una opción: 1. Suma, 2. Multiplicación\n",
            "1\n",
            "5\n",
            "Gracias por usar la función\n"
          ],
          "name": "stdout"
        }
      ]
    },
    {
      "cell_type": "code",
      "metadata": {
        "id": "9arkrzVS0piY"
      },
      "source": [
        ""
      ],
      "execution_count": null,
      "outputs": []
    }
  ]
}