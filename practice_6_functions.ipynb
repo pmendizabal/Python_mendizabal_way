{
  "nbformat": 4,
  "nbformat_minor": 0,
  "metadata": {
    "colab": {
      "name": "practice_6_functions.ipynb",
      "provenance": [],
      "collapsed_sections": [],
      "include_colab_link": true
    },
    "kernelspec": {
      "name": "python3",
      "display_name": "Python 3"
    }
  },
  "cells": [
    {
      "cell_type": "markdown",
      "metadata": {
        "id": "view-in-github",
        "colab_type": "text"
      },
      "source": [
        "<a href=\"https://colab.research.google.com/github/pmendizabal/a_first_course_in_python/blob/main/practice_6_functions.ipynb\" target=\"_parent\"><img src=\"https://colab.research.google.com/assets/colab-badge.svg\" alt=\"Open In Colab\"/></a>"
      ]
    },
    {
      "cell_type": "markdown",
      "metadata": {
        "id": "b98JQQoEy2-y"
      },
      "source": [
        "#Funciones\n",
        "\n",
        "###Practicamente son códigos hechos para cumplir una determinada tarea y no se tenga que volver a repetir código."
      ]
    },
    {
      "cell_type": "markdown",
      "metadata": {
        "id": "qGwuRVd2zUal"
      },
      "source": [
        "Utilizamos la keyword def para definir una función, en este ejemplo le ponemos nombre \"mult\" para indicar que la funcion ejecutara la acción de multiplicar dos números, esto lo sabemos porque abrimos parentesis y ahí asignamos los argumentos que ocupa la función a construir.\n",
        "\n",
        "La keyword return indica lo que va a devolver la función, si no lo ponemos pues simplemente no va a regresar nada."
      ]
    },
    {
      "cell_type": "code",
      "metadata": {
        "id": "PnnhOmZdyz4d"
      },
      "source": [
        "def mult(x,y):\n",
        "  z = x*y\n",
        "  return z\n",
        "\n",
        "mult(2,2)"
      ],
      "execution_count": null,
      "outputs": []
    },
    {
      "cell_type": "code",
      "metadata": {
        "id": "JYtfCB4bzR26"
      },
      "source": [
        "def suma(x,y):\n",
        "  z = x+y\n",
        "  return z\n",
        "\n",
        "suma(3,3)"
      ],
      "execution_count": null,
      "outputs": []
    },
    {
      "cell_type": "code",
      "metadata": {
        "id": "9JZUjkly0OEX"
      },
      "source": [
        "def pseudo_calcu(x,y):\n",
        "  print(\"Bienvenido, escoge una opción: 1. Suma, 2. Multiplicación\")\n",
        "  opcion = input()\n",
        "  if int(opcion)==1:\n",
        "    print(x+y)\n",
        "  else:\n",
        "    print(x*y)\n",
        "  print(\"Gracias por usar la función\")\n",
        "\n",
        "pseudo_calcu(2,3)"
      ],
      "execution_count": null,
      "outputs": []
    },
    {
      "cell_type": "code",
      "metadata": {
        "id": "9arkrzVS0piY"
      },
      "source": [
        "def drop_a(string_):\n",
        "  string_ = string_.replace(\"a\", \" \")\n",
        "  return string_\n",
        "\n",
        "drop_a(\"Akal\")"
      ],
      "execution_count": null,
      "outputs": []
    },
    {
      "cell_type": "code",
      "metadata": {
        "id": "6RWeF_bvyar4"
      },
      "source": [
        "from emoji import emojize\n",
        "print(emojize(\":thumbs_up:\"))"
      ],
      "execution_count": null,
      "outputs": []
    },
    {
      "cell_type": "markdown",
      "metadata": {
        "id": "hWUy2aJRQmJY"
      },
      "source": [
        "###Algunos aditamento que pueden ser útiles"
      ]
    },
    {
      "cell_type": "code",
      "metadata": {
        "id": "gPjsSjnCQHUB"
      },
      "source": [
        "#Kwargs lo vemos cuando suceden errores en funciones que usamos ímplicitamente, \n",
        "#se usa cuando no queremos espeficicar argumentos y funciona como diccionario\n",
        "dictionary = {\"a\": 1, \"b\": 2, \"c\":3, \"d\":3}\n",
        "\n",
        "def someFunction(kwargs):\n",
        "    print(sum(kwargs.values()))\n",
        "    return\n",
        "    \n",
        "# these do the same thing:\n",
        "someFunction(dictionary)"
      ],
      "execution_count": null,
      "outputs": []
    },
    {
      "cell_type": "markdown",
      "metadata": {
        "id": "mFxoeZVZStnY"
      },
      "source": [
        "###List Comprenhensions"
      ]
    },
    {
      "cell_type": "code",
      "metadata": {
        "id": "J8sN7EKVRyWT"
      },
      "source": [
        "sentence = \"la construccion de un comportamiento en los EUA\"\n",
        "words = sentence.split()\n",
        "word_lengths = []\n",
        "for word in words:\n",
        "      if word not in [\"los\",\"la\",\"en\", \"de\"]:\n",
        "          word_lengths.append(len(word))\n",
        "print(words)\n",
        "print(word_lengths)"
      ],
      "execution_count": null,
      "outputs": []
    },
    {
      "cell_type": "code",
      "metadata": {
        "id": "JKLdaKJMS4tp"
      },
      "source": [
        "sentence = \"La construccion de un Comportamiento en los EUA\"\n",
        "sentence = sentence.lower()\n",
        "words = sentence.split()\n",
        "word_lengths = [len(word) for word in words if word not in [\"los\",\"la\",\"en\", \"de\"]]\n",
        "print(words)\n",
        "print(word_lengths)"
      ],
      "execution_count": null,
      "outputs": []
    },
    {
      "cell_type": "code",
      "metadata": {
        "id": "PsQykeQjTjLf"
      },
      "source": [
        "def counting_length(string_):\n",
        "  string_lower = string_.lower()\n",
        "  words = string_lower.split()\n",
        "  string_lower = [len(word) for word in words if word not in [\"los\",\"la\",\"en\", \"de\"]]\n",
        "  return string_lower\n",
        "\n",
        "counting_length(\"La vida DE los desposeidos\")"
      ],
      "execution_count": null,
      "outputs": []
    },
    {
      "cell_type": "code",
      "metadata": {
        "id": "9NfXYH4PUg1H"
      },
      "source": [
        "!pip install unidecode\n",
        "def unaccent_word(text):\n",
        "    import unidecode\n",
        "    unaccented = unidecode.unidecode(text)\n",
        "    return unaccented\n",
        "\n",
        "unaccent_word(\"Holá mundá\")"
      ],
      "execution_count": null,
      "outputs": []
    },
    {
      "cell_type": "code",
      "metadata": {
        "id": "v6eNy4z1Vgi8"
      },
      "source": [
        "def collect_words(strings):\n",
        "  string_lower = strings.lower()\n",
        "  string_unaccented = unaccent_word(string_lower)\n",
        "  words = string_unaccented.split()\n",
        "  string_lower = [word for word in words if word not in [\"los\",\"la\",\"en\", \"de\", \"es\",\"un\",\n",
        "                                                         \"o\", \"u\",\"una\",\"son\",\"con\",\"que\",\"unas\",\n",
        "                                                         \"cuya\",\"no\",\"si\"]]\n",
        "  return string_lower\n",
        "\n",
        "collect_words(\"Un nexo es una morfema o partícula gramatical cuya función sintáctica es unir unas palabras, sintagmas u oraciones con otros de manera coordinantes o subordinantes. Nexo son palabras que no tienen un significado\")"
      ],
      "execution_count": null,
      "outputs": []
    },
    {
      "cell_type": "code",
      "metadata": {
        "id": "TjZI7CUmXYrh"
      },
      "source": [
        "def wordListToFreqDict(wordlist):\n",
        "    wordfreq = [wordlist.count(p) for p in wordlist]\n",
        "    return dict(list(zip(wordlist,wordfreq)))\n",
        "\n",
        "wordListToFreqDict(collect_words(\"Un nexo es una morfema o partícula gramatical cuya función sintáctica es unir unas palabras, sintagmas u oraciones con otros de manera coordinantes o subordinantes. Nexo son palabras que no tienen un significado\"))"
      ],
      "execution_count": null,
      "outputs": []
    },
    {
      "cell_type": "code",
      "metadata": {
        "id": "PiueZ5wvY3NT"
      },
      "source": [
        "wordlist = [\"gol\",\"futbol\"]\n",
        "wordfreq = [wordlist.count(p) for p in wordlist]\n",
        "wordfreq"
      ],
      "execution_count": null,
      "outputs": []
    },
    {
      "cell_type": "code",
      "metadata": {
        "id": "KV9pLFyfZXi1"
      },
      "source": [
        "def wordListToFreqDict(wordlist):\n",
        "    wordfreq = [wordlist.count(p) for p in wordlist]\n",
        "    return dict(list(zip(wordlist,wordfreq)))\n",
        "\n",
        "our_list = wordListToFreqDict(collect_words(\"Un nexo es una morfema o partícula gramatical cuya función sintáctica es unir unas palabras, sintagmas u oraciones con otros de manera coordinantes o subordinantes. Nexo son palabras que no tienen un significado\"))"
      ],
      "execution_count": null,
      "outputs": []
    },
    {
      "cell_type": "code",
      "metadata": {
        "id": "wF3QFsi3Z0cA"
      },
      "source": [
        "from wordcloud import WordCloud\n",
        "\n",
        "wordcloud = WordCloud(background_color='white',\n",
        "                      width=1500,\n",
        "                      height=1000\n",
        "                      ).generate_from_frequencies(our_list)\n",
        "# use .generate(space_separated_string) - to generate cloud from text\n",
        "\n",
        "plt.figure(figsize=(9,6))\n",
        "plt.imshow(wordcloud)\n",
        "plt.axis('off')\n",
        "plt.show()"
      ],
      "execution_count": null,
      "outputs": []
    },
    {
      "cell_type": "code",
      "metadata": {
        "id": "BLexN5-RaAgA"
      },
      "source": [
        ""
      ],
      "execution_count": null,
      "outputs": []
    }
  ]
}