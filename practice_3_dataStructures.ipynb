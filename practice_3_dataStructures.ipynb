{
  "nbformat": 4,
  "nbformat_minor": 0,
  "metadata": {
    "colab": {
      "name": "practice_3_dataStructures.ipynb",
      "provenance": [],
      "authorship_tag": "ABX9TyOOEjCh41svEkvjFFxqWeZv",
      "include_colab_link": true
    },
    "kernelspec": {
      "name": "python3",
      "display_name": "Python 3"
    }
  },
  "cells": [
    {
      "cell_type": "markdown",
      "metadata": {
        "id": "view-in-github",
        "colab_type": "text"
      },
      "source": [
        "<a href=\"https://colab.research.google.com/github/pmendizabal/Python_mendizabal_way/blob/main/practice_3_dataStructures.ipynb\" target=\"_parent\"><img src=\"https://colab.research.google.com/assets/colab-badge.svg\" alt=\"Open In Colab\"/></a>"
      ]
    },
    {
      "cell_type": "markdown",
      "metadata": {
        "id": "0BXRbrNr2_GF"
      },
      "source": [
        "#Estructuras de datos\n",
        "\n",
        "##En esta pequeña practica vamos a programar las distintas estructuras de datos que se han expuesto."
      ]
    },
    {
      "cell_type": "code",
      "metadata": {
        "id": "RfPxKQdc2uPs",
        "outputId": "27989a68-b995-4a36-903e-c3e5ac28d035",
        "colab": {
          "base_uri": "https://localhost:8080/"
        }
      },
      "source": [
        "import array as arr\n",
        "a = arr.array('i', [1, 2, 3]) \n",
        "for i in range (0, 3): \n",
        "    print (a[i], end =\" \") \n"
      ],
      "execution_count": 16,
      "outputs": [
        {
          "output_type": "stream",
          "text": [
            "1 2 3 "
          ],
          "name": "stdout"
        }
      ]
    },
    {
      "cell_type": "code",
      "metadata": {
        "id": "oICgvDJX58ii",
        "outputId": "8f2ec153-e1c9-4bb2-cc1b-fdb2b9c48cc5",
        "colab": {
          "base_uri": "https://localhost:8080/"
        }
      },
      "source": [
        "print(a)"
      ],
      "execution_count": 17,
      "outputs": [
        {
          "output_type": "stream",
          "text": [
            "array('i', [1, 2, 3])\n"
          ],
          "name": "stdout"
        }
      ]
    },
    {
      "cell_type": "code",
      "metadata": {
        "id": "Z2Cbf1zp_9eb",
        "outputId": "f681181b-8688-4ba0-d258-c9fe57893d2b",
        "colab": {
          "base_uri": "https://localhost:8080/"
        }
      },
      "source": [
        "type(a)"
      ],
      "execution_count": 18,
      "outputs": [
        {
          "output_type": "execute_result",
          "data": {
            "text/plain": [
              "array.array"
            ]
          },
          "metadata": {
            "tags": []
          },
          "execution_count": 18
        }
      ]
    },
    {
      "cell_type": "code",
      "metadata": {
        "id": "b67XO3hlMetz",
        "outputId": "c22d3bbc-4c33-4a03-c589-6b9df8333961",
        "colab": {
          "base_uri": "https://localhost:8080/"
        }
      },
      "source": [
        "a[1]"
      ],
      "execution_count": 46,
      "outputs": [
        {
          "output_type": "execute_result",
          "data": {
            "text/plain": [
              "2"
            ]
          },
          "metadata": {
            "tags": []
          },
          "execution_count": 46
        }
      ]
    },
    {
      "cell_type": "markdown",
      "metadata": {
        "id": "Q8Vy34U06bsJ"
      },
      "source": [
        "##Listas"
      ]
    },
    {
      "cell_type": "code",
      "metadata": {
        "id": "2oh9fwa36W5p",
        "outputId": "f7364223-da4c-41a0-e39d-1dc073348bb1",
        "colab": {
          "base_uri": "https://localhost:8080/"
        }
      },
      "source": [
        "b = [1,2,3]\n",
        "for i in b:\n",
        "  print(i)"
      ],
      "execution_count": 12,
      "outputs": [
        {
          "output_type": "stream",
          "text": [
            "1\n",
            "2\n",
            "3\n"
          ],
          "name": "stdout"
        }
      ]
    },
    {
      "cell_type": "code",
      "metadata": {
        "id": "JVACMS4W6pj_",
        "outputId": "b9ed83b0-7317-4184-d269-168eb02545ee",
        "colab": {
          "base_uri": "https://localhost:8080/"
        }
      },
      "source": [
        "print(b)"
      ],
      "execution_count": 7,
      "outputs": [
        {
          "output_type": "stream",
          "text": [
            "[1, 2, 3]\n"
          ],
          "name": "stdout"
        }
      ]
    },
    {
      "cell_type": "code",
      "metadata": {
        "id": "1PFantXA60TK",
        "outputId": "4f69ac8d-ad34-4247-fd18-d5d226922aa8",
        "colab": {
          "base_uri": "https://localhost:8080/"
        }
      },
      "source": [
        "c = (\"hola\", \"Mundo\")\n",
        "c = list(c)\n",
        "print(c)"
      ],
      "execution_count": 10,
      "outputs": [
        {
          "output_type": "stream",
          "text": [
            "['hola', 'Mundo']\n"
          ],
          "name": "stdout"
        }
      ]
    },
    {
      "cell_type": "code",
      "metadata": {
        "id": "kG3ACD_R_4ur",
        "outputId": "e16d414b-22da-499a-9790-3eaa8f184416",
        "colab": {
          "base_uri": "https://localhost:8080/"
        }
      },
      "source": [
        "type(c)"
      ],
      "execution_count": 14,
      "outputs": [
        {
          "output_type": "execute_result",
          "data": {
            "text/plain": [
              "list"
            ]
          },
          "metadata": {
            "tags": []
          },
          "execution_count": 14
        }
      ]
    },
    {
      "cell_type": "code",
      "metadata": {
        "id": "4VDZbTlmMjMr",
        "outputId": "ee6060d7-4fb3-433f-8d5c-1ee01ab6424d",
        "colab": {
          "base_uri": "https://localhost:8080/"
        }
      },
      "source": [
        "b[0]"
      ],
      "execution_count": 47,
      "outputs": [
        {
          "output_type": "execute_result",
          "data": {
            "text/plain": [
              "1"
            ]
          },
          "metadata": {
            "tags": []
          },
          "execution_count": 47
        }
      ]
    },
    {
      "cell_type": "code",
      "metadata": {
        "id": "OqR2XQpWM0Hg",
        "outputId": "15a1e2a5-e1d3-44e3-aa37-87d152ef3e3d",
        "colab": {
          "base_uri": "https://localhost:8080/"
        }
      },
      "source": [
        "new = 5\n",
        "b.append(new)\n",
        "print(b)"
      ],
      "execution_count": 49,
      "outputs": [
        {
          "output_type": "stream",
          "text": [
            "[1, 2, 3, 5]\n"
          ],
          "name": "stdout"
        }
      ]
    },
    {
      "cell_type": "markdown",
      "metadata": {
        "id": "okcORyXV8QU9"
      },
      "source": [
        "##Tupla"
      ]
    },
    {
      "cell_type": "code",
      "metadata": {
        "id": "BhwbvsIL6-u3",
        "outputId": "dd22afad-76f4-43a9-92b2-f57328abde65",
        "colab": {
          "base_uri": "https://localhost:8080/"
        }
      },
      "source": [
        "e = (1,2,3)\n",
        "for i in e:\n",
        "  print(i)"
      ],
      "execution_count": 11,
      "outputs": [
        {
          "output_type": "stream",
          "text": [
            "1\n",
            "2\n",
            "3\n"
          ],
          "name": "stdout"
        }
      ]
    },
    {
      "cell_type": "code",
      "metadata": {
        "id": "W3YGi5xK_xcV",
        "outputId": "4cd799c1-edf6-4ae6-d34d-79f726492ffe",
        "colab": {
          "base_uri": "https://localhost:8080/"
        }
      },
      "source": [
        "type(e)"
      ],
      "execution_count": 13,
      "outputs": [
        {
          "output_type": "execute_result",
          "data": {
            "text/plain": [
              "tuple"
            ]
          },
          "metadata": {
            "tags": []
          },
          "execution_count": 13
        }
      ]
    },
    {
      "cell_type": "code",
      "metadata": {
        "id": "FqCianzBMog9",
        "outputId": "3cb6eb82-8b89-4d8a-da77-2cee464d8360",
        "colab": {
          "base_uri": "https://localhost:8080/"
        }
      },
      "source": [
        "e[0]"
      ],
      "execution_count": 48,
      "outputs": [
        {
          "output_type": "execute_result",
          "data": {
            "text/plain": [
              "1"
            ]
          },
          "metadata": {
            "tags": []
          },
          "execution_count": 48
        }
      ]
    },
    {
      "cell_type": "code",
      "metadata": {
        "id": "yPJck557M773",
        "outputId": "8e304ff6-873e-433e-8efa-454f13a4b05d",
        "colab": {
          "base_uri": "https://localhost:8080/",
          "height": 172
        }
      },
      "source": [
        "e.append(5)"
      ],
      "execution_count": 50,
      "outputs": [
        {
          "output_type": "error",
          "ename": "AttributeError",
          "evalue": "ignored",
          "traceback": [
            "\u001b[0;31m---------------------------------------------------------------------------\u001b[0m",
            "\u001b[0;31mAttributeError\u001b[0m                            Traceback (most recent call last)",
            "\u001b[0;32m<ipython-input-50-0cfa2a2c5f7e>\u001b[0m in \u001b[0;36m<module>\u001b[0;34m()\u001b[0m\n\u001b[0;32m----> 1\u001b[0;31m \u001b[0me\u001b[0m\u001b[0;34m.\u001b[0m\u001b[0mappend\u001b[0m\u001b[0;34m(\u001b[0m\u001b[0;36m5\u001b[0m\u001b[0;34m)\u001b[0m\u001b[0;34m\u001b[0m\u001b[0;34m\u001b[0m\u001b[0m\n\u001b[0m",
            "\u001b[0;31mAttributeError\u001b[0m: 'tuple' object has no attribute 'append'"
          ]
        }
      ]
    },
    {
      "cell_type": "markdown",
      "metadata": {
        "id": "_Hbg-_SUHO7z"
      },
      "source": [
        "##Conjuntos "
      ]
    },
    {
      "cell_type": "code",
      "metadata": {
        "id": "X1ku2JQB_2Xi",
        "outputId": "2ec95335-0ce9-426d-a1ed-9109b8725c09",
        "colab": {
          "base_uri": "https://localhost:8080/"
        }
      },
      "source": [
        "first_natural_numbers = {1,2,3,4,5}\n",
        "for i in first_natural_numbers:\n",
        "  print(i)"
      ],
      "execution_count": 20,
      "outputs": [
        {
          "output_type": "stream",
          "text": [
            "1\n",
            "2\n",
            "3\n",
            "4\n",
            "5\n"
          ],
          "name": "stdout"
        }
      ]
    },
    {
      "cell_type": "code",
      "metadata": {
        "id": "xIaMZPtRHhPK",
        "outputId": "e9a97ba4-6dd6-49f4-f781-c785f39511f2",
        "colab": {
          "base_uri": "https://localhost:8080/"
        }
      },
      "source": [
        "type(first_natural_numbers)"
      ],
      "execution_count": 21,
      "outputs": [
        {
          "output_type": "execute_result",
          "data": {
            "text/plain": [
              "set"
            ]
          },
          "metadata": {
            "tags": []
          },
          "execution_count": 21
        }
      ]
    },
    {
      "cell_type": "code",
      "metadata": {
        "id": "A7whe1R2Hmky",
        "outputId": "93f23ae0-3aff-44e4-c1e5-dce33979ce8f",
        "colab": {
          "base_uri": "https://localhost:8080/"
        }
      },
      "source": [
        "salute = (\"hola\", \"mundo\")\n",
        "salute = set(salute)\n",
        "type(salute)"
      ],
      "execution_count": 22,
      "outputs": [
        {
          "output_type": "execute_result",
          "data": {
            "text/plain": [
              "set"
            ]
          },
          "metadata": {
            "tags": []
          },
          "execution_count": 22
        }
      ]
    },
    {
      "cell_type": "code",
      "metadata": {
        "id": "oGVEdS3qNFgB",
        "outputId": "75529330-bb43-4ca3-efc3-9e1204db141e",
        "colab": {
          "base_uri": "https://localhost:8080/",
          "height": 172
        }
      },
      "source": [
        "first_natural_numbers[0]"
      ],
      "execution_count": 51,
      "outputs": [
        {
          "output_type": "error",
          "ename": "TypeError",
          "evalue": "ignored",
          "traceback": [
            "\u001b[0;31m---------------------------------------------------------------------------\u001b[0m",
            "\u001b[0;31mTypeError\u001b[0m                                 Traceback (most recent call last)",
            "\u001b[0;32m<ipython-input-51-d8c55e722d31>\u001b[0m in \u001b[0;36m<module>\u001b[0;34m()\u001b[0m\n\u001b[0;32m----> 1\u001b[0;31m \u001b[0mfirst_natural_numbers\u001b[0m\u001b[0;34m[\u001b[0m\u001b[0;36m0\u001b[0m\u001b[0;34m]\u001b[0m\u001b[0;34m\u001b[0m\u001b[0;34m\u001b[0m\u001b[0m\n\u001b[0m",
            "\u001b[0;31mTypeError\u001b[0m: 'set' object does not support indexing"
          ]
        }
      ]
    },
    {
      "cell_type": "code",
      "metadata": {
        "id": "GYMttjgwNIsZ",
        "outputId": "34f718bf-b4e6-46b2-a498-4d2fe0457614",
        "colab": {
          "base_uri": "https://localhost:8080/"
        }
      },
      "source": [
        "subject = set(\"economics\")\n",
        "for i in subject:\n",
        "  print(i)"
      ],
      "execution_count": 53,
      "outputs": [
        {
          "output_type": "stream",
          "text": [
            "i\n",
            "m\n",
            "n\n",
            "c\n",
            "e\n",
            "o\n",
            "s\n"
          ],
          "name": "stdout"
        }
      ]
    },
    {
      "cell_type": "markdown",
      "metadata": {
        "id": "yJffn87LH_K5"
      },
      "source": [
        "##Diccionarios"
      ]
    },
    {
      "cell_type": "code",
      "metadata": {
        "id": "-j7Zq71WH3-2",
        "outputId": "4f6ba867-b4c6-4c02-e197-0e36de2d0f20",
        "colab": {
          "base_uri": "https://localhost:8080/"
        }
      },
      "source": [
        "economists = {\"name\": \"Marx\", \"book\": \"The Capital\"}\n",
        "type(economists)"
      ],
      "execution_count": 23,
      "outputs": [
        {
          "output_type": "execute_result",
          "data": {
            "text/plain": [
              "dict"
            ]
          },
          "metadata": {
            "tags": []
          },
          "execution_count": 23
        }
      ]
    },
    {
      "cell_type": "code",
      "metadata": {
        "id": "N1lkZD5GIrjC",
        "outputId": "ee4acbe1-6289-4d0a-ec8c-f8841a52868c",
        "colab": {
          "base_uri": "https://localhost:8080/"
        }
      },
      "source": [
        "for i in economists:\n",
        "  print(i)"
      ],
      "execution_count": 24,
      "outputs": [
        {
          "output_type": "stream",
          "text": [
            "name\n",
            "book\n"
          ],
          "name": "stdout"
        }
      ]
    },
    {
      "cell_type": "code",
      "metadata": {
        "id": "ljCNlFAAIwFb",
        "outputId": "95495bb9-fe80-4d11-f297-a6cdd89880da",
        "colab": {
          "base_uri": "https://localhost:8080/",
          "height": 36
        }
      },
      "source": [
        "economists['name']"
      ],
      "execution_count": 28,
      "outputs": [
        {
          "output_type": "execute_result",
          "data": {
            "application/vnd.google.colaboratory.intrinsic+json": {
              "type": "string"
            },
            "text/plain": [
              "'Marx'"
            ]
          },
          "metadata": {
            "tags": []
          },
          "execution_count": 28
        }
      ]
    },
    {
      "cell_type": "code",
      "metadata": {
        "id": "bgM7kl6-I43E",
        "outputId": "8b3b26a1-fdea-43ea-a180-772b638b2483",
        "colab": {
          "base_uri": "https://localhost:8080/",
          "height": 36
        }
      },
      "source": [
        "economists.get('book')"
      ],
      "execution_count": 30,
      "outputs": [
        {
          "output_type": "execute_result",
          "data": {
            "application/vnd.google.colaboratory.intrinsic+json": {
              "type": "string"
            },
            "text/plain": [
              "'The Capital'"
            ]
          },
          "metadata": {
            "tags": []
          },
          "execution_count": 30
        }
      ]
    },
    {
      "cell_type": "code",
      "metadata": {
        "id": "o_MSTKDiJNjU",
        "outputId": "83ae20be-ea00-4585-d239-cc48eefd95c1",
        "colab": {
          "base_uri": "https://localhost:8080/"
        }
      },
      "source": [
        "economists = {\"first_record\":{\"name\": \"Marx\", \"book\": \"The Capital\"}, \"second_record\":{\"name\":\"Ricardo\", \"book\": \"On the Principles of Political Economy and Taxation\", }}\n",
        "print(economists.get('first_record'))"
      ],
      "execution_count": 35,
      "outputs": [
        {
          "output_type": "stream",
          "text": [
            "{'name': 'Marx', 'book': 'The Capital'}\n"
          ],
          "name": "stdout"
        }
      ]
    },
    {
      "cell_type": "code",
      "metadata": {
        "id": "bhVaw7GOJ31G",
        "outputId": "162251fe-406f-4e54-b00a-bb40c13a6ed7",
        "colab": {
          "base_uri": "https://localhost:8080/",
          "height": 36
        }
      },
      "source": [
        "economists['first_record']['name']"
      ],
      "execution_count": 36,
      "outputs": [
        {
          "output_type": "execute_result",
          "data": {
            "application/vnd.google.colaboratory.intrinsic+json": {
              "type": "string"
            },
            "text/plain": [
              "'Marx'"
            ]
          },
          "metadata": {
            "tags": []
          },
          "execution_count": 36
        }
      ]
    },
    {
      "cell_type": "code",
      "metadata": {
        "id": "PRzyXogzK7tT",
        "outputId": "16668692-2a71-46ba-f6aa-ccf7b682734c",
        "colab": {
          "base_uri": "https://localhost:8080/"
        }
      },
      "source": [
        "for i in economists:\n",
        "  print(i, '->', economists[i]['name'])"
      ],
      "execution_count": 38,
      "outputs": [
        {
          "output_type": "stream",
          "text": [
            "first_record -> Marx\n",
            "second_record -> Ricardo\n"
          ],
          "name": "stdout"
        }
      ]
    },
    {
      "cell_type": "code",
      "metadata": {
        "id": "0cy5X8POLZZj",
        "outputId": "fbf78a39-4618-4c34-b02b-26e07acecf7f",
        "colab": {
          "base_uri": "https://localhost:8080/"
        }
      },
      "source": [
        "print(economists.items())"
      ],
      "execution_count": 40,
      "outputs": [
        {
          "output_type": "stream",
          "text": [
            "dict_items([('first_record', {'name': 'Marx', 'book': 'The Capital'}), ('second_record', {'name': 'Ricardo', 'book': 'On the Principles of Political Economy and Taxation'})])\n"
          ],
          "name": "stdout"
        }
      ]
    },
    {
      "cell_type": "code",
      "metadata": {
        "id": "l6nK8SdSLqsx",
        "outputId": "cecbda12-bd2c-4bfc-e249-dbadbfe99d12",
        "colab": {
          "base_uri": "https://localhost:8080/"
        }
      },
      "source": [
        "for i in economists.items():\n",
        "  print(i)"
      ],
      "execution_count": 41,
      "outputs": [
        {
          "output_type": "stream",
          "text": [
            "('first_record', {'name': 'Marx', 'book': 'The Capital'})\n",
            "('second_record', {'name': 'Ricardo', 'book': 'On the Principles of Political Economy and Taxation'})\n"
          ],
          "name": "stdout"
        }
      ]
    },
    {
      "cell_type": "code",
      "metadata": {
        "id": "PPUKHcNRLxbN",
        "outputId": "cd8083c9-fb59-4d9a-99e1-146683981351",
        "colab": {
          "base_uri": "https://localhost:8080/"
        }
      },
      "source": [
        "print(economists.values())"
      ],
      "execution_count": 43,
      "outputs": [
        {
          "output_type": "stream",
          "text": [
            "dict_values([{'name': 'Marx', 'book': 'The Capital'}, {'name': 'Ricardo', 'book': 'On the Principles of Political Economy and Taxation'}])\n"
          ],
          "name": "stdout"
        }
      ]
    },
    {
      "cell_type": "code",
      "metadata": {
        "id": "gUK1n5ViL51j",
        "outputId": "603023e9-32fe-4782-c33a-fe12d3a06718",
        "colab": {
          "base_uri": "https://localhost:8080/"
        }
      },
      "source": [
        "for i in economists.values():\n",
        "  print(i)"
      ],
      "execution_count": 45,
      "outputs": [
        {
          "output_type": "stream",
          "text": [
            "{'name': 'Marx', 'book': 'The Capital'}\n",
            "{'name': 'Ricardo', 'book': 'On the Principles of Political Economy and Taxation'}\n"
          ],
          "name": "stdout"
        }
      ]
    },
    {
      "cell_type": "code",
      "metadata": {
        "id": "GpOpl5hBMCFA"
      },
      "source": [
        ""
      ],
      "execution_count": null,
      "outputs": []
    }
  ]
}